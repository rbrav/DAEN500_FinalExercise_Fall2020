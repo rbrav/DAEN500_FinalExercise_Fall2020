{
 "cells": [
  {
   "cell_type": "code",
   "execution_count": 45,
   "metadata": {},
   "outputs": [
    {
     "name": "stdout",
     "output_type": "stream",
     "text": [
      "Please input your string to be converted to uppercase:\n",
      "Hi Hi\n",
      "HI HI\n"
     ]
    }
   ],
   "source": [
    "#Defining a class which has at least two methods.\n",
    "class AllCaps:\n",
    "    def __init__(self):\n",
    "        self.userString = \"\"\n",
    "   \n",
    "    def getString(self): #Method 1 – getString: to get a string from console input \n",
    "        self.userString = str(input('Please input your string to be converted to uppercase:\\n'))\n",
    "         \n",
    "    def printString(self): #Method 2 - printString: to print the string in upper case \n",
    "        print(self.userString.upper())\n",
    "\n",
    "\n",
    "callCaps = AllCaps() #Calling a class\n",
    "callCaps.getString() #Calling getString\n",
    "callCaps.printString() #Calling printString\n",
    "\n",
    "\n"
   ]
  },
  {
   "cell_type": "code",
   "execution_count": null,
   "metadata": {},
   "outputs": [],
   "source": [
    "\n"
   ]
  },
  {
   "cell_type": "code",
   "execution_count": null,
   "metadata": {},
   "outputs": [],
   "source": []
  },
  {
   "cell_type": "code",
   "execution_count": null,
   "metadata": {},
   "outputs": [],
   "source": []
  },
  {
   "cell_type": "code",
   "execution_count": null,
   "metadata": {},
   "outputs": [],
   "source": []
  }
 ],
 "metadata": {
  "kernelspec": {
   "display_name": "Python 3",
   "language": "python",
   "name": "python3"
  },
  "language_info": {
   "codemirror_mode": {
    "name": "ipython",
    "version": 3
   },
   "file_extension": ".py",
   "mimetype": "text/x-python",
   "name": "python",
   "nbconvert_exporter": "python",
   "pygments_lexer": "ipython3",
   "version": "3.8.3"
  }
 },
 "nbformat": 4,
 "nbformat_minor": 4
}
